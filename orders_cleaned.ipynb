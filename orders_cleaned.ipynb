{
  "metadata": {
    "kernelspec": {
      "name": "python",
      "display_name": "Python (Pyodide)",
      "language": "python"
    },
    "language_info": {
      "codemirror_mode": {
        "name": "python",
        "version": 3
      },
      "file_extension": ".py",
      "mimetype": "text/x-python",
      "name": "python",
      "nbconvert_exporter": "python",
      "pygments_lexer": "ipython3",
      "version": "3.8"
    }
  },
  "nbformat_minor": 5,
  "nbformat": 4,
  "cells": [
    {
      "id": "535757e3-f131-494e-a1ec-e4176c5c4114",
      "cell_type": "code",
      "source": "import pandas as pd",
      "metadata": {
        "trusted": true
      },
      "outputs": [],
      "execution_count": 1
    },
    {
      "id": "9bc965ef-7833-4913-a81b-b82ebb5e4950",
      "cell_type": "code",
      "source": "# Load orders.csv\ndf_orders = pd.read_csv('orders.csv')",
      "metadata": {
        "trusted": true
      },
      "outputs": [],
      "execution_count": 2
    },
    {
      "id": "ee074b69-bade-4177-9025-d8df325d9ca3",
      "cell_type": "code",
      "source": "# Preview the data\ndf_orders.head()",
      "metadata": {
        "trusted": true
      },
      "outputs": [
        {
          "execution_count": 3,
          "output_type": "execute_result",
          "data": {
            "text/plain": "                           order_id                       customer_id  \\\n0  e481f51cbdc54678b7cc49136f2d6af7  9ef432eb6251297304e76186b10a928d   \n1  53cdb2fc8bc7dce0b6741e2150273451  b0830fb4747a6c6d20dea0b8c802d7ef   \n2  47770eb9100c2d0c44946d9cf07ec65d  41ce2a54c0b03bf3443c3d931a367089   \n3  949d5b44dbf5de918fe9c16f97b45f8a  f88197465ea7920adcdbec7375364d82   \n4  ad21c59c0840e6cb83a9ceb5573f8159  8ab97904e6daea8866dbdbc4fb7aad2c   \n\n  order_status order_purchase_timestamp    order_approved_at  \\\n0    delivered      2017-10-02 10:56:33  2017-10-02 11:07:15   \n1    delivered      2018-07-24 20:41:37  2018-07-26 03:24:27   \n2    delivered      2018-08-08 08:38:49  2018-08-08 08:55:23   \n3    delivered      2017-11-18 19:28:06  2017-11-18 19:45:59   \n4    delivered      2018-02-13 21:18:39  2018-02-13 22:20:29   \n\n  order_delivered_carrier_date order_delivered_customer_date  \\\n0          2017-10-04 19:55:00           2017-10-10 21:25:13   \n1          2018-07-26 14:31:00           2018-08-07 15:27:45   \n2          2018-08-08 13:50:00           2018-08-17 18:06:29   \n3          2017-11-22 13:39:59           2017-12-02 00:28:42   \n4          2018-02-14 19:46:34           2018-02-16 18:17:02   \n\n  order_estimated_delivery_date  \n0           2017-10-18 00:00:00  \n1           2018-08-13 00:00:00  \n2           2018-09-04 00:00:00  \n3           2017-12-15 00:00:00  \n4           2018-02-26 00:00:00  ",
            "text/html": "<div>\n<style scoped>\n    .dataframe tbody tr th:only-of-type {\n        vertical-align: middle;\n    }\n\n    .dataframe tbody tr th {\n        vertical-align: top;\n    }\n\n    .dataframe thead th {\n        text-align: right;\n    }\n</style>\n<table border=\"1\" class=\"dataframe\">\n  <thead>\n    <tr style=\"text-align: right;\">\n      <th></th>\n      <th>order_id</th>\n      <th>customer_id</th>\n      <th>order_status</th>\n      <th>order_purchase_timestamp</th>\n      <th>order_approved_at</th>\n      <th>order_delivered_carrier_date</th>\n      <th>order_delivered_customer_date</th>\n      <th>order_estimated_delivery_date</th>\n    </tr>\n  </thead>\n  <tbody>\n    <tr>\n      <th>0</th>\n      <td>e481f51cbdc54678b7cc49136f2d6af7</td>\n      <td>9ef432eb6251297304e76186b10a928d</td>\n      <td>delivered</td>\n      <td>2017-10-02 10:56:33</td>\n      <td>2017-10-02 11:07:15</td>\n      <td>2017-10-04 19:55:00</td>\n      <td>2017-10-10 21:25:13</td>\n      <td>2017-10-18 00:00:00</td>\n    </tr>\n    <tr>\n      <th>1</th>\n      <td>53cdb2fc8bc7dce0b6741e2150273451</td>\n      <td>b0830fb4747a6c6d20dea0b8c802d7ef</td>\n      <td>delivered</td>\n      <td>2018-07-24 20:41:37</td>\n      <td>2018-07-26 03:24:27</td>\n      <td>2018-07-26 14:31:00</td>\n      <td>2018-08-07 15:27:45</td>\n      <td>2018-08-13 00:00:00</td>\n    </tr>\n    <tr>\n      <th>2</th>\n      <td>47770eb9100c2d0c44946d9cf07ec65d</td>\n      <td>41ce2a54c0b03bf3443c3d931a367089</td>\n      <td>delivered</td>\n      <td>2018-08-08 08:38:49</td>\n      <td>2018-08-08 08:55:23</td>\n      <td>2018-08-08 13:50:00</td>\n      <td>2018-08-17 18:06:29</td>\n      <td>2018-09-04 00:00:00</td>\n    </tr>\n    <tr>\n      <th>3</th>\n      <td>949d5b44dbf5de918fe9c16f97b45f8a</td>\n      <td>f88197465ea7920adcdbec7375364d82</td>\n      <td>delivered</td>\n      <td>2017-11-18 19:28:06</td>\n      <td>2017-11-18 19:45:59</td>\n      <td>2017-11-22 13:39:59</td>\n      <td>2017-12-02 00:28:42</td>\n      <td>2017-12-15 00:00:00</td>\n    </tr>\n    <tr>\n      <th>4</th>\n      <td>ad21c59c0840e6cb83a9ceb5573f8159</td>\n      <td>8ab97904e6daea8866dbdbc4fb7aad2c</td>\n      <td>delivered</td>\n      <td>2018-02-13 21:18:39</td>\n      <td>2018-02-13 22:20:29</td>\n      <td>2018-02-14 19:46:34</td>\n      <td>2018-02-16 18:17:02</td>\n      <td>2018-02-26 00:00:00</td>\n    </tr>\n  </tbody>\n</table>\n</div>"
          },
          "metadata": {}
        }
      ],
      "execution_count": 3
    },
    {
      "id": "c558635c-092a-4251-9d52-cdcdcf5549ce",
      "cell_type": "code",
      "source": "df_orders.info()",
      "metadata": {
        "trusted": true
      },
      "outputs": [
        {
          "name": "stdout",
          "output_type": "stream",
          "text": "<class 'pandas.core.frame.DataFrame'>\nRangeIndex: 5904 entries, 0 to 5903\nData columns (total 8 columns):\n #   Column                         Non-Null Count  Dtype \n---  ------                         --------------  ----- \n 0   order_id                       5904 non-null   object\n 1   customer_id                    5904 non-null   object\n 2   order_status                   5904 non-null   object\n 3   order_purchase_timestamp       5904 non-null   object\n 4   order_approved_at              5889 non-null   object\n 5   order_delivered_carrier_date   5810 non-null   object\n 6   order_delivered_customer_date  5734 non-null   object\n 7   order_estimated_delivery_date  5904 non-null   object\ndtypes: object(8)\nmemory usage: 184.6+ KB\n"
        }
      ],
      "execution_count": 4
    },
    {
      "id": "9f4ef88d-67ca-491d-aef3-e45940c4c57c",
      "cell_type": "code",
      "source": "df_orders.info()\nprint(\"\\nMissing values:\\n\", df_orders.isnull().sum())\nprint(\"\\nDuplicate rows:\", df_orders.duplicated().sum())\nprint(\"\\nUnique values:\\n\", df_orders.nunique())\n",
      "metadata": {
        "trusted": true
      },
      "outputs": [
        {
          "name": "stdout",
          "output_type": "stream",
          "text": "<class 'pandas.core.frame.DataFrame'>\nRangeIndex: 5904 entries, 0 to 5903\nData columns (total 8 columns):\n #   Column                         Non-Null Count  Dtype \n---  ------                         --------------  ----- \n 0   order_id                       5904 non-null   object\n 1   customer_id                    5904 non-null   object\n 2   order_status                   5904 non-null   object\n 3   order_purchase_timestamp       5904 non-null   object\n 4   order_approved_at              5889 non-null   object\n 5   order_delivered_carrier_date   5810 non-null   object\n 6   order_delivered_customer_date  5734 non-null   object\n 7   order_estimated_delivery_date  5904 non-null   object\ndtypes: object(8)\nmemory usage: 184.6+ KB\n\nMissing values:\n order_id                           0\ncustomer_id                        0\norder_status                       0\norder_purchase_timestamp           0\norder_approved_at                 15\norder_delivered_carrier_date      94\norder_delivered_customer_date    170\norder_estimated_delivery_date      0\ndtype: int64\n\nDuplicate rows: 0\n\nUnique values:\n order_id                         5904\ncustomer_id                      5904\norder_status                        6\norder_purchase_timestamp         5901\norder_approved_at                5846\norder_delivered_carrier_date     5685\norder_delivered_customer_date    5733\norder_estimated_delivery_date     410\ndtype: int64\n"
        }
      ],
      "execution_count": 5
    },
    {
      "id": "a3fb65ec-90d6-42ba-837f-cb64df547234",
      "cell_type": "code",
      "source": "# Convert datetime columns to datetime format\ndatetime_cols = [\n    \"order_purchase_timestamp\",\n    \"order_approved_at\",\n    \"order_delivered_carrier_date\",\n    \"order_delivered_customer_date\",\n    \"order_estimated_delivery_date\"\n]\n\nfor col in datetime_cols:\n    df_orders[col] = pd.to_datetime(df_orders[col], errors='coerce')\n\n# Handling missing values\n# We will not drop rows, just keep them as nulls (Bronze layer keeps raw truth)\nprint(\"Remaining nulls after datetime conversion:\\n\", df_orders.isnull().sum())\n\n# Final check\ndf_orders.info()\n",
      "metadata": {
        "trusted": true
      },
      "outputs": [
        {
          "name": "stdout",
          "output_type": "stream",
          "text": "Remaining nulls after datetime conversion:\n order_id                           0\ncustomer_id                        0\norder_status                       0\norder_purchase_timestamp           0\norder_approved_at                 15\norder_delivered_carrier_date      94\norder_delivered_customer_date    170\norder_estimated_delivery_date      0\ndtype: int64\n<class 'pandas.core.frame.DataFrame'>\nRangeIndex: 5904 entries, 0 to 5903\nData columns (total 8 columns):\n #   Column                         Non-Null Count  Dtype         \n---  ------                         --------------  -----         \n 0   order_id                       5904 non-null   object        \n 1   customer_id                    5904 non-null   object        \n 2   order_status                   5904 non-null   object        \n 3   order_purchase_timestamp       5904 non-null   datetime64[ns]\n 4   order_approved_at              5889 non-null   datetime64[ns]\n 5   order_delivered_carrier_date   5810 non-null   datetime64[ns]\n 6   order_delivered_customer_date  5734 non-null   datetime64[ns]\n 7   order_estimated_delivery_date  5904 non-null   datetime64[ns]\ndtypes: datetime64[ns](5), object(3)\nmemory usage: 299.9+ KB\n"
        }
      ],
      "execution_count": 6
    },
    {
      "id": "87c2e06e-6451-48af-b48c-711cdf7fdeaa",
      "cell_type": "code",
      "source": "df_orders.to_csv(\"cleaned_orders.csv\", index=False)\n",
      "metadata": {
        "trusted": true
      },
      "outputs": [],
      "execution_count": null
    }
  ]
}