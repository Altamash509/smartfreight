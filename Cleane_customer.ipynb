{
  "metadata": {
    "kernelspec": {
      "name": "python",
      "display_name": "Python (Pyodide)",
      "language": "python"
    },
    "language_info": {
      "codemirror_mode": {
        "name": "python",
        "version": 3
      },
      "file_extension": ".py",
      "mimetype": "text/x-python",
      "name": "python",
      "nbconvert_exporter": "python",
      "pygments_lexer": "ipython3",
      "version": "3.8"
    }
  },
  "nbformat_minor": 5,
  "nbformat": 4,
  "cells": [
    {
      "id": "7d34fbcc-8768-4d7e-9079-51d84dfaf0d5",
      "cell_type": "code",
      "source": "import pandas as pd",
      "metadata": {
        "trusted": true
      },
      "outputs": [],
      "execution_count": 1
    },
    {
      "id": "dd421643-1cf7-4d6d-9f5a-bb4a17fa119b",
      "cell_type": "code",
      "source": "#load customers.csv into a dataframe",
      "metadata": {
        "trusted": true
      },
      "outputs": [],
      "execution_count": 2
    },
    {
      "id": "cfc27cea-0018-4a09-8430-4a4639b31b99",
      "cell_type": "code",
      "source": "df_customers = pd.read_csv(\"customers.csv\")",
      "metadata": {
        "trusted": true
      },
      "outputs": [],
      "execution_count": 4
    },
    {
      "id": "4ca0ca35-f151-42fc-bd37-8ab278261e6a",
      "cell_type": "code",
      "source": "df_customers.head()",
      "metadata": {
        "trusted": true
      },
      "outputs": [
        {
          "execution_count": 5,
          "output_type": "execute_result",
          "data": {
            "text/plain": "                        customer_id                customer_unique_id  \\\n0  06b8999e2fba1a1fbc88172c00ba8bc7  861eff4711a542e4b93843c6dd7febb0   \n1  18955e83d337fd6b2def6b18a428ac77  290c77bc529b7ac935b93aa66c333dc3   \n2  4e7b3e00288586ebd08712fdd0374a03  060e732b5b29e8181a18229c7b0b2b5e   \n3  b2b6027bc5c5109e529d4dc6358b12c3  259dac757896d24d7702b9acbbff3f3c   \n4  4f2d8ab171c80ec8364f7c12e35b23ad  345ecd01c38d18a9036ed96c73b8d066   \n\n   customer_zip_code_prefix          customer_city customer_state  \n0                     14409                 franca             SP  \n1                      9790  sao bernardo do campo             SP  \n2                      1151              sao paulo             SP  \n3                      8775        mogi das cruzes             SP  \n4                     13056               campinas             SP  ",
            "text/html": "<div>\n<style scoped>\n    .dataframe tbody tr th:only-of-type {\n        vertical-align: middle;\n    }\n\n    .dataframe tbody tr th {\n        vertical-align: top;\n    }\n\n    .dataframe thead th {\n        text-align: right;\n    }\n</style>\n<table border=\"1\" class=\"dataframe\">\n  <thead>\n    <tr style=\"text-align: right;\">\n      <th></th>\n      <th>customer_id</th>\n      <th>customer_unique_id</th>\n      <th>customer_zip_code_prefix</th>\n      <th>customer_city</th>\n      <th>customer_state</th>\n    </tr>\n  </thead>\n  <tbody>\n    <tr>\n      <th>0</th>\n      <td>06b8999e2fba1a1fbc88172c00ba8bc7</td>\n      <td>861eff4711a542e4b93843c6dd7febb0</td>\n      <td>14409</td>\n      <td>franca</td>\n      <td>SP</td>\n    </tr>\n    <tr>\n      <th>1</th>\n      <td>18955e83d337fd6b2def6b18a428ac77</td>\n      <td>290c77bc529b7ac935b93aa66c333dc3</td>\n      <td>9790</td>\n      <td>sao bernardo do campo</td>\n      <td>SP</td>\n    </tr>\n    <tr>\n      <th>2</th>\n      <td>4e7b3e00288586ebd08712fdd0374a03</td>\n      <td>060e732b5b29e8181a18229c7b0b2b5e</td>\n      <td>1151</td>\n      <td>sao paulo</td>\n      <td>SP</td>\n    </tr>\n    <tr>\n      <th>3</th>\n      <td>b2b6027bc5c5109e529d4dc6358b12c3</td>\n      <td>259dac757896d24d7702b9acbbff3f3c</td>\n      <td>8775</td>\n      <td>mogi das cruzes</td>\n      <td>SP</td>\n    </tr>\n    <tr>\n      <th>4</th>\n      <td>4f2d8ab171c80ec8364f7c12e35b23ad</td>\n      <td>345ecd01c38d18a9036ed96c73b8d066</td>\n      <td>13056</td>\n      <td>campinas</td>\n      <td>SP</td>\n    </tr>\n  </tbody>\n</table>\n</div>"
          },
          "metadata": {}
        }
      ],
      "execution_count": 5
    },
    {
      "id": "87ba931f-b637-45ca-80d5-a0e109e674e9",
      "cell_type": "code",
      "source": "df_customers.info()",
      "metadata": {
        "trusted": true
      },
      "outputs": [
        {
          "name": "stdout",
          "output_type": "stream",
          "text": "<class 'pandas.core.frame.DataFrame'>\nRangeIndex: 11547 entries, 0 to 11546\nData columns (total 5 columns):\n #   Column                    Non-Null Count  Dtype \n---  ------                    --------------  ----- \n 0   customer_id               11547 non-null  object\n 1   customer_unique_id        11547 non-null  object\n 2   customer_zip_code_prefix  11547 non-null  int64 \n 3   customer_city             11547 non-null  object\n 4   customer_state            11546 non-null  object\ndtypes: int64(1), object(4)\nmemory usage: 270.7+ KB\n"
        }
      ],
      "execution_count": 6
    },
    {
      "id": "65b79ff9-5df6-4366-bde5-a6ab5fe2bdee",
      "cell_type": "code",
      "source": "df_customers.isnull().sum()",
      "metadata": {
        "trusted": true
      },
      "outputs": [
        {
          "execution_count": 7,
          "output_type": "execute_result",
          "data": {
            "text/plain": "customer_id                 0\ncustomer_unique_id          0\ncustomer_zip_code_prefix    0\ncustomer_city               0\ncustomer_state              1\ndtype: int64"
          },
          "metadata": {}
        }
      ],
      "execution_count": 7
    },
    {
      "id": "1c9fac90-5c71-41cb-a701-1f7e686f2f36",
      "cell_type": "code",
      "source": "print(\"Duplicate rows:\", df_customers.duplicated().sum())",
      "metadata": {
        "trusted": true
      },
      "outputs": [
        {
          "name": "stdout",
          "output_type": "stream",
          "text": "Duplicate rows: 0\n"
        }
      ],
      "execution_count": 8
    },
    {
      "id": "0f356854-de11-4682-9217-c7cf300eefd3",
      "cell_type": "code",
      "source": "df_customers.nunique()",
      "metadata": {
        "trusted": true
      },
      "outputs": [
        {
          "execution_count": 9,
          "output_type": "execute_result",
          "data": {
            "text/plain": "customer_id                 11547\ncustomer_unique_id          11496\ncustomer_zip_code_prefix     6466\ncustomer_city                1719\ncustomer_state                 27\ndtype: int64"
          },
          "metadata": {}
        }
      ],
      "execution_count": 9
    },
    {
      "id": "86e0b12f-cdcc-4f53-a214-d38e4c231c84",
      "cell_type": "code",
      "source": "df_customer =df_customers.dropna(subset=['customer_state'])",
      "metadata": {
        "trusted": true
      },
      "outputs": [],
      "execution_count": 10
    },
    {
      "id": "7f9b6bc1-5453-49e8-8c53-463901edab09",
      "cell_type": "code",
      "source": "# Remove duplicates based on customer_unique_id, keeping the first occurrence\ndf_customers_deduped = df_customers.drop_duplicates(subset=['customer_unique_id'], keep= 'first')",
      "metadata": {
        "trusted": true
      },
      "outputs": [],
      "execution_count": 12
    },
    {
      "id": "3db8756f-c5c8-4e97-9719-d2ac09ace39f",
      "cell_type": "code",
      "source": "df_customers_deduped.shape",
      "metadata": {
        "trusted": true
      },
      "outputs": [
        {
          "execution_count": 13,
          "output_type": "execute_result",
          "data": {
            "text/plain": "(11496, 5)"
          },
          "metadata": {}
        }
      ],
      "execution_count": 13
    },
    {
      "id": "39aaebca-89bb-4515-9510-7473ff9efc97",
      "cell_type": "code",
      "source": "df_customers_deduped.to_csv(\"cleaned_customers.csv\", index= False)",
      "metadata": {
        "trusted": true
      },
      "outputs": [],
      "execution_count": 14
    },
    {
      "id": "7cda4677-ecc3-414a-8931-905039bc8584",
      "cell_type": "code",
      "source": "",
      "metadata": {
        "trusted": true
      },
      "outputs": [],
      "execution_count": null
    }
  ]
}